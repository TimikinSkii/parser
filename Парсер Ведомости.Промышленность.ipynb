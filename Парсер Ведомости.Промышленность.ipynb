{
 "cells": [
  {
   "cell_type": "code",
   "execution_count": 1,
   "metadata": {},
   "outputs": [],
   "source": [
    "#pip install selenium"
   ]
  },
  {
   "cell_type": "code",
   "execution_count": 2,
   "metadata": {
    "azdata_cell_guid": "e99edfb5-07ae-41e4-b6ac-99dca2fb9501"
   },
   "outputs": [],
   "source": [
    "import requests\n",
    "import pandas as pd\n",
    "from bs4 import BeautifulSoup\n",
    "import time\n",
    "from datetime import datetime\n",
    "from tqdm import tqdm\n",
    "\n",
    "from selenium import webdriver\n",
    "from selenium.webdriver.common.action_chains import ActionChains\n",
    "from selenium.webdriver.chrome.options import Options\n",
    "from selenium.webdriver.common.by import By\n",
    "from selenium.webdriver.common.keys import Keys\n",
    "\n",
    "import csv\n",
    "\n",
    "import pandas as pd"
   ]
  },
  {
   "cell_type": "code",
   "execution_count": 3,
   "metadata": {},
   "outputs": [],
   "source": [
    "# Открыть сразу на весь экран\n",
    "chrome_options = Options()\n",
    "chrome_options.add_argument('--start-maximized')\n",
    "\n",
    "driver=webdriver.Chrome(options=chrome_options)\n",
    "\n",
    "driver.get('https://www.vedomosti.ru/industry')"
   ]
  },
  {
   "cell_type": "markdown",
   "metadata": {},
   "source": [
    "**Документация**\n",
    "\n",
    "Про скролл: https://stackoverflow.com/questions/53701759/scroll-with-keys-page-down-in-selenium-python\n",
    "\n",
    "❗ Надо парсить на большом мониторе, иначе глючит."
   ]
  },
  {
   "cell_type": "code",
   "execution_count": 4,
   "metadata": {},
   "outputs": [],
   "source": [
    "import random as rd\n",
    "\n",
    "# html = driver.find_element(By.XPATH,'//body')\n",
    "total_scroled = 0\n",
    "\n",
    "\n",
    "# Определяем длину страницы\n",
    "page_height = driver.execute_script(\"return document.body.scrollHeight\")\n",
    "\n",
    "# Скролим вниз, пока не достигнем конца страницы\n",
    "while total_scroled < page_height:\n",
    "    html = driver.find_elements(\"xpath\", \"//a[@class='waterfall__item-title']\")[-1]\n",
    "    html.send_keys(Keys.PAGE_DOWN)\n",
    "    total_scroled += 400\n",
    "    time.sleep(.5)"
   ]
  },
  {
   "cell_type": "code",
   "execution_count": 5,
   "metadata": {},
   "outputs": [],
   "source": [
    "soup = BeautifulSoup(driver.page_source, \"html.parser\")"
   ]
  },
  {
   "cell_type": "code",
   "execution_count": 6,
   "metadata": {},
   "outputs": [],
   "source": [
    "# Получаем все ссылки\n",
    "a_class = 'waterfall__item-title'\n",
    "elements = soup.find_all('a', class_=a_class)\n",
    "\n",
    "links = []\n",
    "for elem in elements:\n",
    "    links.append('https://www.vedomosti.ru' + elem['href'])"
   ]
  },
  {
   "cell_type": "code",
   "execution_count": 7,
   "metadata": {
    "azdata_cell_guid": "e12965c4-c8f1-4482-bc6d-1947739dcb3d"
   },
   "outputs": [],
   "source": [
    "def get_content(url):\n",
    "\n",
    "    articles = requests.get(url)\n",
    "    soup = BeautifulSoup(articles.text, \"html.parser\")\n",
    "    \n",
    "    # Находим элементы с текстом статьи (обычно это теги <p> или <div>)\n",
    "    article_text = soup.find_all('p', \"box-paragraph__text\")\n",
    "    \n",
    "    \n",
    "    # Извлекаем текст из найденных элементов\n",
    "    text = ''\n",
    "    for paragraph in article_text:\n",
    "\n",
    "        text += paragraph.text + ' '\n",
    "\n",
    "    text = text.replace('\\n', ' ').replace('  ', ' ').strip()\n",
    "\n",
    "    title = soup.find('h1').text.strip()\n",
    "    \n",
    "    date_element = soup.find('time', class_='article-meta__date')\n",
    "\n",
    "    date = datetime.fromisoformat(date_element['datetime']).strftime(\"%d.%m.%Y\")\n",
    "    \n",
    "    # Выводим текст статьи\n",
    "    return [url, title, text, date]"
   ]
  },
  {
   "cell_type": "code",
   "execution_count": 8,
   "metadata": {},
   "outputs": [],
   "source": [
    "columns = ['link', 'title', 'text', 'date']\n",
    "\n",
    "with open('vedomosti_industry.csv', 'w', encoding='utf-16', newline='') as file:\n",
    "    writer = csv.writer(file, delimiter=';')\n",
    "    writer.writerow(columns)"
   ]
  },
  {
   "cell_type": "code",
   "execution_count": 9,
   "metadata": {},
   "outputs": [
    {
     "name": "stderr",
     "output_type": "stream",
     "text": [
      "100%|██████████| 139/139 [17:23<00:00,  7.51s/it]\n"
     ]
    }
   ],
   "source": [
    "for url in tqdm(links):\n",
    "    \n",
    "    row = get_content(url)\n",
    "\n",
    "    with open('vedomosti_industry.csv', 'a', encoding='utf-16', newline='') as file:\n",
    "            writer = csv.writer(file, delimiter=';')\n",
    "            writer.writerow(row)\n",
    "            \n",
    "    time.sleep(7)"
   ]
  },
  {
   "cell_type": "code",
   "execution_count": 10,
   "metadata": {},
   "outputs": [
    {
     "data": {
      "text/plain": [
       "<_io.TextIOWrapper name='vedomosti_industry.csv' mode='a' encoding='utf-16'>"
      ]
     },
     "execution_count": 10,
     "metadata": {},
     "output_type": "execute_result"
    }
   ],
   "source": [
    "file"
   ]
  }
 ],
 "metadata": {
  "kernelspec": {
   "display_name": "Python 3 (ipykernel)",
   "language": "python",
   "name": "python3"
  },
  "language_info": {
   "codemirror_mode": {
    "name": "ipython",
    "version": 3
   },
   "file_extension": ".py",
   "mimetype": "text/x-python",
   "name": "python",
   "nbconvert_exporter": "python",
   "pygments_lexer": "ipython3",
   "version": "3.11.7"
  },
  "varInspector": {
   "cols": {
    "lenName": 16,
    "lenType": 16,
    "lenVar": 40
   },
   "kernels_config": {
    "python": {
     "delete_cmd_postfix": "",
     "delete_cmd_prefix": "del ",
     "library": "var_list.py",
     "varRefreshCmd": "print(var_dic_list())"
    },
    "r": {
     "delete_cmd_postfix": ") ",
     "delete_cmd_prefix": "rm(",
     "library": "var_list.r",
     "varRefreshCmd": "cat(var_dic_list()) "
    }
   },
   "types_to_exclude": [
    "module",
    "function",
    "builtin_function_or_method",
    "instance",
    "_Feature"
   ],
   "window_display": false
  }
 },
 "nbformat": 4,
 "nbformat_minor": 4
}
